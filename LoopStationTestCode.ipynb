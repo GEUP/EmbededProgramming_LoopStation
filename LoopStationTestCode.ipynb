{
 "cells": [
  {
   "cell_type": "code",
   "execution_count": 5,
   "metadata": {},
   "outputs": [
    {
     "ename": "ModuleNotFoundError",
     "evalue": "No module named 'pydub'",
     "output_type": "error",
     "traceback": [
      "\u001b[1;31m---------------------------------------------------------------------------\u001b[0m",
      "\u001b[1;31mModuleNotFoundError\u001b[0m                       Traceback (most recent call last)",
      "\u001b[1;32m<ipython-input-5-6d254007c0ed>\u001b[0m in \u001b[0;36m<module>\u001b[1;34m\u001b[0m\n\u001b[0;32m      1\u001b[0m \u001b[1;32mimport\u001b[0m \u001b[0mpaho\u001b[0m\u001b[1;33m.\u001b[0m\u001b[0mmqtt\u001b[0m\u001b[1;33m.\u001b[0m\u001b[0mclient\u001b[0m \u001b[1;32mas\u001b[0m \u001b[0mmqtt\u001b[0m\u001b[1;33m\u001b[0m\u001b[1;33m\u001b[0m\u001b[0m\n\u001b[0;32m      2\u001b[0m \u001b[1;32mimport\u001b[0m \u001b[0mtime\u001b[0m\u001b[1;33m\u001b[0m\u001b[1;33m\u001b[0m\u001b[0m\n\u001b[1;32m----> 3\u001b[1;33m \u001b[1;32mfrom\u001b[0m \u001b[0mpydub\u001b[0m \u001b[1;32mimport\u001b[0m \u001b[0mAudioSegment\u001b[0m\u001b[1;33m\u001b[0m\u001b[1;33m\u001b[0m\u001b[0m\n\u001b[0m\u001b[0;32m      4\u001b[0m \u001b[1;32mimport\u001b[0m \u001b[0mos\u001b[0m\u001b[1;33m\u001b[0m\u001b[1;33m\u001b[0m\u001b[0m\n\u001b[0;32m      5\u001b[0m \u001b[1;32mfrom\u001b[0m \u001b[0mpicamera\u001b[0m \u001b[1;32mimport\u001b[0m \u001b[0mPiCamera\u001b[0m\u001b[1;33m\u001b[0m\u001b[1;33m\u001b[0m\u001b[0m\n",
      "\u001b[1;31mModuleNotFoundError\u001b[0m: No module named 'pydub'"
     ]
    }
   ],
   "source": [
    "import paho.mqtt.client as mqtt\n",
    "import time\n",
    "from pydub import AudioSegment\n",
    "import os\n",
    "from picamera import PiCamera\n",
    "import cv2\n",
    "import pygames"
   ]
  },
  {
   "cell_type": "code",
   "execution_count": null,
   "metadata": {},
   "outputs": [],
   "source": [
    "song = AudioSegment.from_file('/home/pi/Desktop/source.3gp')\n",
    "song = song-100\n",
    "num=0\n",
    "camera = PiCamera()\n",
    "button = [0,0,0,0,0,0,0,0,0]"
   ]
  },
  {
   "cell_type": "code",
   "execution_count": null,
   "metadata": {},
   "outputs": [],
   "source": [
    "def camera_capture(n):\n",
    "    camera.start_preview()\n",
    "    time.sleep(1)\n",
    "    camera.capture('/home/pi/Desktop/carmera{}.jpg'.format(n))\n",
    "    camera.stop_preview()\n",
    "    src = cv2.imread('/home/pi/Desktop/carmera.jpg',cv2.IMREAD_COLOR)\n",
    "    srcn = cv2.imread('/home/pi/Desktop/carmera{}.jpg'.format(n),cv2.IMREAD_COLOR)\n",
    "    srcn = cv2.resize(srcn,dsize=(100,100),interpolation=cv2.INTER_AREA)\n",
    "    r, c = n/3, n%3\n",
    "    roi = src[r:r+100,c:c+100]\n",
    "    roi = srcn.copy()\n",
    "    \n"
   ]
  },
  {
   "cell_type": "code",
   "execution_count": null,
   "metadata": {},
   "outputs": [],
   "source": [
    "def display_image():\n",
    "    scope = pyscope()\n",
    "    image1 = pygame.image.load('carmera.jpg').convert()\n",
    "    isize = image1.get_size()\n",
    "    dsize = (pygame.display.Info().current_w, pygame.display.Info().current_h)\n",
    "    xp = (dsize[0] - isize[0]) / 2  # find location to center image on screen\n",
    "    yp = (dsize[1] - isize[1]) / 2\n",
    "    scope.screen.blit(image1,(xp,yp))\n",
    "    pygame.display.update()\n"
   ]
  },
  {
   "cell_type": "code",
   "execution_count": null,
   "metadata": {},
   "outputs": [],
   "source": [
    "def on_connect(client,userdata,flags,rc):\n",
    "    client.subscribe(\"SOURCE\")\n",
    "    \n",
    "def on_message(client,userdata,msg):\n",
    "    global song\n",
    "    global num\n",
    "    num+=1\n",
    "    print(\"message arrive\")\n",
    "    fw=open('temp.3gp','wb')\n",
    "    #fw=open('source.3gp','wb')\n",
    "    fw.write(msg.payload)\n",
    "    fw.close()\n",
    "    \n",
    "    data = AudioSegment.from_file('/home/pi/Desktop/temp.3gp',formet='arm')\n",
    "    song  = song.overlay(data*2)\n",
    "    song.export('/home/pi/Desktop/source.3gp')\n",
    "    fr=open('source.3gp','rb')\n",
    "    sendData = fr.read()\n",
    "    fr.close()\n",
    "    mqttClient.publish(\"CTRL-SPEAKER\",sendData)\n",
    "    #mqttClient.publish(\"CTRL-SPEAKER\",msg.payload)\n",
    "\n",
    "def mikeOn():\n",
    "    print(\"MIKE ON\")\n",
    "    mqttClient.publish(\"CTRL-MIKE\",\"MIKE ON\")\n",
    "\n",
    "def mikeOff():\n",
    "    print(\"MIKE OFF\")\n",
    "    mqttClient.publish(\"CTRL-MIKE\",\"MIKE OFF\")"
   ]
  },
  {
   "cell_type": "code",
   "execution_count": null,
   "metadata": {},
   "outputs": [],
   "source": [
    "mqttClient = mqtt.Client(\"LoopStation\")\n",
    "mqttClient.on_connect=on_connect\n",
    "mqttClient.on_message = on_message\n",
    "mqttClient.connect(\"localhost\",1883)\n",
    "\n",
    "mqttClient.loop_start()\n"
   ]
  },
  {
   "cell_type": "code",
   "execution_count": null,
   "metadata": {},
   "outputs": [],
   "source": [
    "button = bytearray(button)\n",
    "waitEnd = 0\n",
    "readBtn = open('/dev/fpga_push_switch','rb')\n",
    "writeLed = open('/dev/fpga_led','wb')\n",
    "while True:\n",
    "    button = readBtn.read()\n",
    "    if waitEnd==0:\n",
    "        if(button[0]==1):\n",
    "            mikeOn()\n",
    "            writeLed.write(128)\n",
    "            waitEnd = 1\n",
    "            camera_capture(1)\n",
    "            display_image()\n",
    "            time.sleep(1)\n",
    "    else:\n",
    "        if(button[0]==1)&&(waitEnd==1):\n",
    "            mikeOff()\n",
    "            writeLed.write(0)\n",
    "            waitEnd = 0\n",
    "    "
   ]
  },
  {
   "cell_type": "code",
   "execution_count": 4,
   "metadata": {},
   "outputs": [
    {
     "name": "stdout",
     "output_type": "stream",
     "text": [
      "bytearray(b'\\x00\\x00\\x01\\x00\\x00\\x00\\x00\\x00\\x00')\n"
     ]
    }
   ],
   "source": []
  },
  {
   "cell_type": "code",
   "execution_count": null,
   "metadata": {},
   "outputs": [],
   "source": []
  }
 ],
 "metadata": {
  "kernelspec": {
   "display_name": "Python 3",
   "language": "python",
   "name": "python3"
  },
  "language_info": {
   "codemirror_mode": {
    "name": "ipython",
    "version": 3
   },
   "file_extension": ".py",
   "mimetype": "text/x-python",
   "name": "python",
   "nbconvert_exporter": "python",
   "pygments_lexer": "ipython3",
   "version": "3.7.4"
  }
 },
 "nbformat": 4,
 "nbformat_minor": 2
}
